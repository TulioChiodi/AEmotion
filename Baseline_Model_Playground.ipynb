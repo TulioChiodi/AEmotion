{
 "cells": [
  {
   "cell_type": "code",
   "execution_count": 1,
   "metadata": {},
   "outputs": [],
   "source": [
    "# Importing required libraries \n",
    "# Keras\n",
    "from tensorflow import keras\n",
    "from tensorflow.keras import regularizers\n",
    "from tensorflow.keras.preprocessing import sequence\n",
    "from tensorflow.keras.preprocessing.text import Tokenizer\n",
    "from tensorflow.keras.preprocessing.sequence import pad_sequences\n",
    "from tensorflow.keras.models import Sequential, Model, model_from_json\n",
    "from tensorflow.keras.layers import Dense, Embedding, LSTM\n",
    "from tensorflow.keras.layers import Input, Flatten, Dropout, Activation, BatchNormalization\n",
    "from tensorflow.keras.layers import Conv1D, MaxPooling1D, AveragePooling1D\n",
    "import tensorflow.keras.utils as utils\n",
    "from tensorflow.keras.utils import to_categorical\n",
    "from tensorflow.keras.callbacks import ModelCheckpoint\n",
    "\n",
    "# sklearn\n",
    "from sklearn.metrics import confusion_matrix, accuracy_score, classification_report\n",
    "from sklearn.model_selection import train_test_split\n",
    "from sklearn.preprocessing import LabelEncoder\n",
    "\n",
    "# Other  \n",
    "import librosa\n",
    "import librosa.display\n",
    "import json\n",
    "import numpy as np\n",
    "import matplotlib.pyplot as plt\n",
    "import tensorflow as tf\n",
    "from matplotlib.pyplot import specgram\n",
    "import pandas as pd\n",
    "import seaborn as sns\n",
    "import glob \n",
    "import os\n",
    "import pickle\n",
    "import IPython.display as ipd  # To play sound in the notebook\n",
    "\n",
    "import time\n",
    "\n",
    "# start_time = time.time()\n",
    "# print(f\"--- {time.time() - start_time} seconds ---\")"
   ]
  },
  {
   "cell_type": "code",
   "execution_count": 2,
   "metadata": {},
   "outputs": [
    {
     "data": {
      "text/html": [
       "<div>\n",
       "<style scoped>\n",
       "    .dataframe tbody tr th:only-of-type {\n",
       "        vertical-align: middle;\n",
       "    }\n",
       "\n",
       "    .dataframe tbody tr th {\n",
       "        vertical-align: top;\n",
       "    }\n",
       "\n",
       "    .dataframe thead th {\n",
       "        text-align: right;\n",
       "    }\n",
       "</style>\n",
       "<table border=\"1\" class=\"dataframe\">\n",
       "  <thead>\n",
       "    <tr style=\"text-align: right;\">\n",
       "      <th></th>\n",
       "      <th>gender</th>\n",
       "      <th>emotion</th>\n",
       "      <th>labels</th>\n",
       "      <th>path</th>\n",
       "    </tr>\n",
       "  </thead>\n",
       "  <tbody>\n",
       "    <tr>\n",
       "      <th>0</th>\n",
       "      <td>male</td>\n",
       "      <td>angry</td>\n",
       "      <td>male_angry</td>\n",
       "      <td>dataset/RAVDESS_Audio_Speech/Actor_01/03-01-05...</td>\n",
       "    </tr>\n",
       "    <tr>\n",
       "      <th>1</th>\n",
       "      <td>male</td>\n",
       "      <td>neutral</td>\n",
       "      <td>male_neutral</td>\n",
       "      <td>dataset/RAVDESS_Audio_Speech/Actor_01/03-01-02...</td>\n",
       "    </tr>\n",
       "    <tr>\n",
       "      <th>2</th>\n",
       "      <td>male</td>\n",
       "      <td>disgust</td>\n",
       "      <td>male_disgust</td>\n",
       "      <td>dataset/RAVDESS_Audio_Speech/Actor_01/03-01-07...</td>\n",
       "    </tr>\n",
       "    <tr>\n",
       "      <th>3</th>\n",
       "      <td>male</td>\n",
       "      <td>neutral</td>\n",
       "      <td>male_neutral</td>\n",
       "      <td>dataset/RAVDESS_Audio_Speech/Actor_01/03-01-02...</td>\n",
       "    </tr>\n",
       "    <tr>\n",
       "      <th>4</th>\n",
       "      <td>male</td>\n",
       "      <td>surprise</td>\n",
       "      <td>male_surprise</td>\n",
       "      <td>dataset/RAVDESS_Audio_Speech/Actor_01/03-01-08...</td>\n",
       "    </tr>\n",
       "  </tbody>\n",
       "</table>\n",
       "</div>"
      ],
      "text/plain": [
       "  gender   emotion         labels  \\\n",
       "0   male     angry     male_angry   \n",
       "1   male   neutral   male_neutral   \n",
       "2   male   disgust   male_disgust   \n",
       "3   male   neutral   male_neutral   \n",
       "4   male  surprise  male_surprise   \n",
       "\n",
       "                                                path  \n",
       "0  dataset/RAVDESS_Audio_Speech/Actor_01/03-01-05...  \n",
       "1  dataset/RAVDESS_Audio_Speech/Actor_01/03-01-02...  \n",
       "2  dataset/RAVDESS_Audio_Speech/Actor_01/03-01-07...  \n",
       "3  dataset/RAVDESS_Audio_Speech/Actor_01/03-01-02...  \n",
       "4  dataset/RAVDESS_Audio_Speech/Actor_01/03-01-08...  "
      ]
     },
     "execution_count": 2,
     "metadata": {},
     "output_type": "execute_result"
    }
   ],
   "source": [
    "ref = pd.read_csv('RAVDESS_dataframe.csv')\n",
    "ref.head()"
   ]
  },
  {
   "cell_type": "code",
   "execution_count": 3,
   "metadata": {},
   "outputs": [
    {
     "name": "stdout",
     "output_type": "stream",
     "text": [
      "1440\n",
      "--- 35.96572685241699 seconds ---\n"
     ]
    },
    {
     "data": {
      "text/html": [
       "<div>\n",
       "<style scoped>\n",
       "    .dataframe tbody tr th:only-of-type {\n",
       "        vertical-align: middle;\n",
       "    }\n",
       "\n",
       "    .dataframe tbody tr th {\n",
       "        vertical-align: top;\n",
       "    }\n",
       "\n",
       "    .dataframe thead th {\n",
       "        text-align: right;\n",
       "    }\n",
       "</style>\n",
       "<table border=\"1\" class=\"dataframe\">\n",
       "  <thead>\n",
       "    <tr style=\"text-align: right;\">\n",
       "      <th></th>\n",
       "      <th>feature</th>\n",
       "    </tr>\n",
       "  </thead>\n",
       "  <tbody>\n",
       "    <tr>\n",
       "      <th>0</th>\n",
       "      <td>[-55.61269, -56.2771, -56.28026, -54.96154, -5...</td>\n",
       "    </tr>\n",
       "    <tr>\n",
       "      <th>1</th>\n",
       "      <td>[-71.47245, -71.47245, -71.10964, -68.89937, -...</td>\n",
       "    </tr>\n",
       "    <tr>\n",
       "      <th>2</th>\n",
       "      <td>[-69.44611, -69.44611, -69.44611, -69.44611, -...</td>\n",
       "    </tr>\n",
       "    <tr>\n",
       "      <th>3</th>\n",
       "      <td>[-69.90503, -69.86861, -69.90503, -69.90503, -...</td>\n",
       "    </tr>\n",
       "    <tr>\n",
       "      <th>4</th>\n",
       "      <td>[-64.84805, -64.84805, -64.84805, -64.84805, -...</td>\n",
       "    </tr>\n",
       "  </tbody>\n",
       "</table>\n",
       "</div>"
      ],
      "text/plain": [
       "                                             feature\n",
       "0  [-55.61269, -56.2771, -56.28026, -54.96154, -5...\n",
       "1  [-71.47245, -71.47245, -71.10964, -68.89937, -...\n",
       "2  [-69.44611, -69.44611, -69.44611, -69.44611, -...\n",
       "3  [-69.90503, -69.86861, -69.90503, -69.90503, -...\n",
       "4  [-64.84805, -64.84805, -64.84805, -64.84805, -..."
      ]
     },
     "execution_count": 3,
     "metadata": {},
     "output_type": "execute_result"
    }
   ],
   "source": [
    "start_time = time.time()\n",
    "\n",
    "\n",
    "# Note this takes a couple of minutes (~10 mins) as we're iterating over 4 datasets \n",
    "df = pd.DataFrame(columns=['feature'])\n",
    "\n",
    "# loop feature extraction over the entire dataset\n",
    "counter=0\n",
    "for index,path in enumerate(ref.path):\n",
    "    X, sample_rate = librosa.load(path\n",
    "                                  , res_type='kaiser_fast'\n",
    "                                  ,duration=2.5\n",
    "                                  ,sr=48000\n",
    "                                  ,offset=0.5\n",
    "                                 )\n",
    "    sample_rate = np.array(sample_rate)\n",
    "    \n",
    "    # mean as the feature. Could do min and max etc as well. \n",
    "    mfccs = np.mean(librosa.feature.mfcc(y=X, \n",
    "                                        sr=sample_rate, \n",
    "                                        n_mfcc=13),\n",
    "                    axis=0)\n",
    "    df.loc[counter] = [mfccs]\n",
    "    counter=counter+1   \n",
    "\n",
    "# Check a few records to make sure its processed successfully\n",
    "print(len(df))\n",
    "\n",
    "\n",
    "\n",
    "\n",
    "print(f\"--- {time.time() - start_time} seconds ---\")\n",
    "\n",
    "df.head()"
   ]
  },
  {
   "cell_type": "code",
   "execution_count": 4,
   "metadata": {},
   "outputs": [
    {
     "data": {
      "text/html": [
       "<div>\n",
       "<style scoped>\n",
       "    .dataframe tbody tr th:only-of-type {\n",
       "        vertical-align: middle;\n",
       "    }\n",
       "\n",
       "    .dataframe tbody tr th {\n",
       "        vertical-align: top;\n",
       "    }\n",
       "\n",
       "    .dataframe thead th {\n",
       "        text-align: right;\n",
       "    }\n",
       "</style>\n",
       "<table border=\"1\" class=\"dataframe\">\n",
       "  <thead>\n",
       "    <tr style=\"text-align: right;\">\n",
       "      <th></th>\n",
       "      <th>gender</th>\n",
       "      <th>emotion</th>\n",
       "      <th>labels</th>\n",
       "      <th>path</th>\n",
       "      <th>0</th>\n",
       "      <th>1</th>\n",
       "      <th>2</th>\n",
       "      <th>3</th>\n",
       "      <th>4</th>\n",
       "      <th>5</th>\n",
       "      <th>...</th>\n",
       "      <th>225</th>\n",
       "      <th>226</th>\n",
       "      <th>227</th>\n",
       "      <th>228</th>\n",
       "      <th>229</th>\n",
       "      <th>230</th>\n",
       "      <th>231</th>\n",
       "      <th>232</th>\n",
       "      <th>233</th>\n",
       "      <th>234</th>\n",
       "    </tr>\n",
       "  </thead>\n",
       "  <tbody>\n",
       "    <tr>\n",
       "      <th>0</th>\n",
       "      <td>male</td>\n",
       "      <td>angry</td>\n",
       "      <td>male_angry</td>\n",
       "      <td>dataset/RAVDESS_Audio_Speech/Actor_01/03-01-05...</td>\n",
       "      <td>-55.612690</td>\n",
       "      <td>-56.277100</td>\n",
       "      <td>-56.280258</td>\n",
       "      <td>-54.961540</td>\n",
       "      <td>-54.760498</td>\n",
       "      <td>-56.270699</td>\n",
       "      <td>...</td>\n",
       "      <td>-56.281174</td>\n",
       "      <td>-56.281174</td>\n",
       "      <td>-56.281174</td>\n",
       "      <td>-56.010765</td>\n",
       "      <td>-56.228943</td>\n",
       "      <td>-56.281174</td>\n",
       "      <td>-56.281174</td>\n",
       "      <td>-56.281174</td>\n",
       "      <td>-56.281174</td>\n",
       "      <td>-56.281174</td>\n",
       "    </tr>\n",
       "    <tr>\n",
       "      <th>1</th>\n",
       "      <td>male</td>\n",
       "      <td>neutral</td>\n",
       "      <td>male_neutral</td>\n",
       "      <td>dataset/RAVDESS_Audio_Speech/Actor_01/03-01-02...</td>\n",
       "      <td>-71.472450</td>\n",
       "      <td>-71.472450</td>\n",
       "      <td>-71.109642</td>\n",
       "      <td>-68.899368</td>\n",
       "      <td>-71.406387</td>\n",
       "      <td>-71.472450</td>\n",
       "      <td>...</td>\n",
       "      <td>-30.753172</td>\n",
       "      <td>-31.356428</td>\n",
       "      <td>-33.237289</td>\n",
       "      <td>-36.219086</td>\n",
       "      <td>-40.019844</td>\n",
       "      <td>-39.284313</td>\n",
       "      <td>-41.995590</td>\n",
       "      <td>-39.923244</td>\n",
       "      <td>-41.920223</td>\n",
       "      <td>-44.674606</td>\n",
       "    </tr>\n",
       "    <tr>\n",
       "      <th>2</th>\n",
       "      <td>male</td>\n",
       "      <td>disgust</td>\n",
       "      <td>male_disgust</td>\n",
       "      <td>dataset/RAVDESS_Audio_Speech/Actor_01/03-01-07...</td>\n",
       "      <td>-69.446114</td>\n",
       "      <td>-69.446114</td>\n",
       "      <td>-69.446114</td>\n",
       "      <td>-69.446114</td>\n",
       "      <td>-69.446114</td>\n",
       "      <td>-69.446114</td>\n",
       "      <td>...</td>\n",
       "      <td>-34.327042</td>\n",
       "      <td>-33.364403</td>\n",
       "      <td>-34.830746</td>\n",
       "      <td>-37.748177</td>\n",
       "      <td>-38.264187</td>\n",
       "      <td>-38.390324</td>\n",
       "      <td>-39.573997</td>\n",
       "      <td>-41.444107</td>\n",
       "      <td>-42.311619</td>\n",
       "      <td>-44.731667</td>\n",
       "    </tr>\n",
       "    <tr>\n",
       "      <th>3</th>\n",
       "      <td>male</td>\n",
       "      <td>neutral</td>\n",
       "      <td>male_neutral</td>\n",
       "      <td>dataset/RAVDESS_Audio_Speech/Actor_01/03-01-02...</td>\n",
       "      <td>-69.905029</td>\n",
       "      <td>-69.868607</td>\n",
       "      <td>-69.905029</td>\n",
       "      <td>-69.905029</td>\n",
       "      <td>-69.905029</td>\n",
       "      <td>-69.905029</td>\n",
       "      <td>...</td>\n",
       "      <td>-61.936401</td>\n",
       "      <td>-59.778069</td>\n",
       "      <td>-62.469486</td>\n",
       "      <td>-63.688515</td>\n",
       "      <td>-64.990250</td>\n",
       "      <td>-60.271835</td>\n",
       "      <td>-57.834335</td>\n",
       "      <td>-59.412334</td>\n",
       "      <td>-63.083355</td>\n",
       "      <td>-61.245667</td>\n",
       "    </tr>\n",
       "    <tr>\n",
       "      <th>4</th>\n",
       "      <td>male</td>\n",
       "      <td>surprise</td>\n",
       "      <td>male_surprise</td>\n",
       "      <td>dataset/RAVDESS_Audio_Speech/Actor_01/03-01-08...</td>\n",
       "      <td>-64.848053</td>\n",
       "      <td>-64.848053</td>\n",
       "      <td>-64.848053</td>\n",
       "      <td>-64.848053</td>\n",
       "      <td>-64.848053</td>\n",
       "      <td>-64.848053</td>\n",
       "      <td>...</td>\n",
       "      <td>-62.991230</td>\n",
       "      <td>-64.679863</td>\n",
       "      <td>-64.848053</td>\n",
       "      <td>-64.848053</td>\n",
       "      <td>-64.768166</td>\n",
       "      <td>-64.848053</td>\n",
       "      <td>-64.848053</td>\n",
       "      <td>-64.848053</td>\n",
       "      <td>-64.848053</td>\n",
       "      <td>-64.848053</td>\n",
       "    </tr>\n",
       "  </tbody>\n",
       "</table>\n",
       "<p>5 rows × 239 columns</p>\n",
       "</div>"
      ],
      "text/plain": [
       "  gender   emotion         labels  \\\n",
       "0   male     angry     male_angry   \n",
       "1   male   neutral   male_neutral   \n",
       "2   male   disgust   male_disgust   \n",
       "3   male   neutral   male_neutral   \n",
       "4   male  surprise  male_surprise   \n",
       "\n",
       "                                                path          0          1  \\\n",
       "0  dataset/RAVDESS_Audio_Speech/Actor_01/03-01-05... -55.612690 -56.277100   \n",
       "1  dataset/RAVDESS_Audio_Speech/Actor_01/03-01-02... -71.472450 -71.472450   \n",
       "2  dataset/RAVDESS_Audio_Speech/Actor_01/03-01-07... -69.446114 -69.446114   \n",
       "3  dataset/RAVDESS_Audio_Speech/Actor_01/03-01-02... -69.905029 -69.868607   \n",
       "4  dataset/RAVDESS_Audio_Speech/Actor_01/03-01-08... -64.848053 -64.848053   \n",
       "\n",
       "           2          3          4          5  ...        225        226  \\\n",
       "0 -56.280258 -54.961540 -54.760498 -56.270699  ... -56.281174 -56.281174   \n",
       "1 -71.109642 -68.899368 -71.406387 -71.472450  ... -30.753172 -31.356428   \n",
       "2 -69.446114 -69.446114 -69.446114 -69.446114  ... -34.327042 -33.364403   \n",
       "3 -69.905029 -69.905029 -69.905029 -69.905029  ... -61.936401 -59.778069   \n",
       "4 -64.848053 -64.848053 -64.848053 -64.848053  ... -62.991230 -64.679863   \n",
       "\n",
       "         227        228        229        230        231        232  \\\n",
       "0 -56.281174 -56.010765 -56.228943 -56.281174 -56.281174 -56.281174   \n",
       "1 -33.237289 -36.219086 -40.019844 -39.284313 -41.995590 -39.923244   \n",
       "2 -34.830746 -37.748177 -38.264187 -38.390324 -39.573997 -41.444107   \n",
       "3 -62.469486 -63.688515 -64.990250 -60.271835 -57.834335 -59.412334   \n",
       "4 -64.848053 -64.848053 -64.768166 -64.848053 -64.848053 -64.848053   \n",
       "\n",
       "         233        234  \n",
       "0 -56.281174 -56.281174  \n",
       "1 -41.920223 -44.674606  \n",
       "2 -42.311619 -44.731667  \n",
       "3 -63.083355 -61.245667  \n",
       "4 -64.848053 -64.848053  \n",
       "\n",
       "[5 rows x 239 columns]"
      ]
     },
     "execution_count": 4,
     "metadata": {},
     "output_type": "execute_result"
    }
   ],
   "source": [
    "df_processed = pd.concat([ref,pd.DataFrame(df['feature'].values.tolist())],axis=1)\n",
    "df_processed[:5]"
   ]
  },
  {
   "cell_type": "code",
   "execution_count": 5,
   "metadata": {},
   "outputs": [
    {
     "name": "stdout",
     "output_type": "stream",
     "text": [
      "(1440, 1)\n"
     ]
    },
    {
     "data": {
      "text/html": [
       "<div>\n",
       "<style scoped>\n",
       "    .dataframe tbody tr th:only-of-type {\n",
       "        vertical-align: middle;\n",
       "    }\n",
       "\n",
       "    .dataframe tbody tr th {\n",
       "        vertical-align: top;\n",
       "    }\n",
       "\n",
       "    .dataframe thead th {\n",
       "        text-align: right;\n",
       "    }\n",
       "</style>\n",
       "<table border=\"1\" class=\"dataframe\">\n",
       "  <thead>\n",
       "    <tr style=\"text-align: right;\">\n",
       "      <th></th>\n",
       "      <th>feature</th>\n",
       "    </tr>\n",
       "  </thead>\n",
       "  <tbody>\n",
       "    <tr>\n",
       "      <th>0</th>\n",
       "      <td>[-55.61269, -56.2771, -56.28026, -54.96154, -5...</td>\n",
       "    </tr>\n",
       "    <tr>\n",
       "      <th>1</th>\n",
       "      <td>[-71.47245, -71.47245, -71.10964, -68.89937, -...</td>\n",
       "    </tr>\n",
       "    <tr>\n",
       "      <th>2</th>\n",
       "      <td>[-69.44611, -69.44611, -69.44611, -69.44611, -...</td>\n",
       "    </tr>\n",
       "    <tr>\n",
       "      <th>3</th>\n",
       "      <td>[-69.90503, -69.86861, -69.90503, -69.90503, -...</td>\n",
       "    </tr>\n",
       "    <tr>\n",
       "      <th>4</th>\n",
       "      <td>[-64.84805, -64.84805, -64.84805, -64.84805, -...</td>\n",
       "    </tr>\n",
       "  </tbody>\n",
       "</table>\n",
       "</div>"
      ],
      "text/plain": [
       "                                             feature\n",
       "0  [-55.61269, -56.2771, -56.28026, -54.96154, -5...\n",
       "1  [-71.47245, -71.47245, -71.10964, -68.89937, -...\n",
       "2  [-69.44611, -69.44611, -69.44611, -69.44611, -...\n",
       "3  [-69.90503, -69.86861, -69.90503, -69.90503, -...\n",
       "4  [-64.84805, -64.84805, -64.84805, -64.84805, -..."
      ]
     },
     "execution_count": 5,
     "metadata": {},
     "output_type": "execute_result"
    }
   ],
   "source": [
    "# replace NA with 0\n",
    "df_processed=df_processed.fillna(0)\n",
    "print(df.shape)\n",
    "df[:5]"
   ]
  },
  {
   "cell_type": "markdown",
   "metadata": {},
   "source": [
    "## Splitting dataset: Training and validation:"
   ]
  },
  {
   "cell_type": "code",
   "execution_count": 6,
   "metadata": {},
   "outputs": [
    {
     "data": {
      "text/html": [
       "<div>\n",
       "<style scoped>\n",
       "    .dataframe tbody tr th:only-of-type {\n",
       "        vertical-align: middle;\n",
       "    }\n",
       "\n",
       "    .dataframe tbody tr th {\n",
       "        vertical-align: top;\n",
       "    }\n",
       "\n",
       "    .dataframe thead th {\n",
       "        text-align: right;\n",
       "    }\n",
       "</style>\n",
       "<table border=\"1\" class=\"dataframe\">\n",
       "  <thead>\n",
       "    <tr style=\"text-align: right;\">\n",
       "      <th></th>\n",
       "      <th>0</th>\n",
       "      <th>1</th>\n",
       "      <th>2</th>\n",
       "      <th>3</th>\n",
       "      <th>4</th>\n",
       "      <th>5</th>\n",
       "      <th>6</th>\n",
       "      <th>7</th>\n",
       "      <th>8</th>\n",
       "      <th>9</th>\n",
       "      <th>...</th>\n",
       "      <th>225</th>\n",
       "      <th>226</th>\n",
       "      <th>227</th>\n",
       "      <th>228</th>\n",
       "      <th>229</th>\n",
       "      <th>230</th>\n",
       "      <th>231</th>\n",
       "      <th>232</th>\n",
       "      <th>233</th>\n",
       "      <th>234</th>\n",
       "    </tr>\n",
       "  </thead>\n",
       "  <tbody>\n",
       "    <tr>\n",
       "      <th>0</th>\n",
       "      <td>-55.612690</td>\n",
       "      <td>-56.277100</td>\n",
       "      <td>-56.280258</td>\n",
       "      <td>-54.961540</td>\n",
       "      <td>-54.760498</td>\n",
       "      <td>-56.270699</td>\n",
       "      <td>-56.281174</td>\n",
       "      <td>-56.281174</td>\n",
       "      <td>-56.281174</td>\n",
       "      <td>-56.281174</td>\n",
       "      <td>...</td>\n",
       "      <td>-56.281174</td>\n",
       "      <td>-56.281174</td>\n",
       "      <td>-56.281174</td>\n",
       "      <td>-56.010765</td>\n",
       "      <td>-56.228943</td>\n",
       "      <td>-56.281174</td>\n",
       "      <td>-56.281174</td>\n",
       "      <td>-56.281174</td>\n",
       "      <td>-56.281174</td>\n",
       "      <td>-56.281174</td>\n",
       "    </tr>\n",
       "    <tr>\n",
       "      <th>1</th>\n",
       "      <td>-71.472450</td>\n",
       "      <td>-71.472450</td>\n",
       "      <td>-71.109642</td>\n",
       "      <td>-68.899368</td>\n",
       "      <td>-71.406387</td>\n",
       "      <td>-71.472450</td>\n",
       "      <td>-71.472450</td>\n",
       "      <td>-71.472450</td>\n",
       "      <td>-71.472450</td>\n",
       "      <td>-71.472450</td>\n",
       "      <td>...</td>\n",
       "      <td>-30.753172</td>\n",
       "      <td>-31.356428</td>\n",
       "      <td>-33.237289</td>\n",
       "      <td>-36.219086</td>\n",
       "      <td>-40.019844</td>\n",
       "      <td>-39.284313</td>\n",
       "      <td>-41.995590</td>\n",
       "      <td>-39.923244</td>\n",
       "      <td>-41.920223</td>\n",
       "      <td>-44.674606</td>\n",
       "    </tr>\n",
       "    <tr>\n",
       "      <th>2</th>\n",
       "      <td>-69.446114</td>\n",
       "      <td>-69.446114</td>\n",
       "      <td>-69.446114</td>\n",
       "      <td>-69.446114</td>\n",
       "      <td>-69.446114</td>\n",
       "      <td>-69.446114</td>\n",
       "      <td>-69.446114</td>\n",
       "      <td>-69.446114</td>\n",
       "      <td>-69.446114</td>\n",
       "      <td>-69.446114</td>\n",
       "      <td>...</td>\n",
       "      <td>-34.327042</td>\n",
       "      <td>-33.364403</td>\n",
       "      <td>-34.830746</td>\n",
       "      <td>-37.748177</td>\n",
       "      <td>-38.264187</td>\n",
       "      <td>-38.390324</td>\n",
       "      <td>-39.573997</td>\n",
       "      <td>-41.444107</td>\n",
       "      <td>-42.311619</td>\n",
       "      <td>-44.731667</td>\n",
       "    </tr>\n",
       "    <tr>\n",
       "      <th>3</th>\n",
       "      <td>-69.905029</td>\n",
       "      <td>-69.868607</td>\n",
       "      <td>-69.905029</td>\n",
       "      <td>-69.905029</td>\n",
       "      <td>-69.905029</td>\n",
       "      <td>-69.905029</td>\n",
       "      <td>-69.905029</td>\n",
       "      <td>-69.905029</td>\n",
       "      <td>-69.905029</td>\n",
       "      <td>-69.905029</td>\n",
       "      <td>...</td>\n",
       "      <td>-61.936401</td>\n",
       "      <td>-59.778069</td>\n",
       "      <td>-62.469486</td>\n",
       "      <td>-63.688515</td>\n",
       "      <td>-64.990250</td>\n",
       "      <td>-60.271835</td>\n",
       "      <td>-57.834335</td>\n",
       "      <td>-59.412334</td>\n",
       "      <td>-63.083355</td>\n",
       "      <td>-61.245667</td>\n",
       "    </tr>\n",
       "    <tr>\n",
       "      <th>4</th>\n",
       "      <td>-64.848053</td>\n",
       "      <td>-64.848053</td>\n",
       "      <td>-64.848053</td>\n",
       "      <td>-64.848053</td>\n",
       "      <td>-64.848053</td>\n",
       "      <td>-64.848053</td>\n",
       "      <td>-64.848053</td>\n",
       "      <td>-64.848053</td>\n",
       "      <td>-64.848053</td>\n",
       "      <td>-64.848053</td>\n",
       "      <td>...</td>\n",
       "      <td>-62.991230</td>\n",
       "      <td>-64.679863</td>\n",
       "      <td>-64.848053</td>\n",
       "      <td>-64.848053</td>\n",
       "      <td>-64.768166</td>\n",
       "      <td>-64.848053</td>\n",
       "      <td>-64.848053</td>\n",
       "      <td>-64.848053</td>\n",
       "      <td>-64.848053</td>\n",
       "      <td>-64.848053</td>\n",
       "    </tr>\n",
       "    <tr>\n",
       "      <th>...</th>\n",
       "      <td>...</td>\n",
       "      <td>...</td>\n",
       "      <td>...</td>\n",
       "      <td>...</td>\n",
       "      <td>...</td>\n",
       "      <td>...</td>\n",
       "      <td>...</td>\n",
       "      <td>...</td>\n",
       "      <td>...</td>\n",
       "      <td>...</td>\n",
       "      <td>...</td>\n",
       "      <td>...</td>\n",
       "      <td>...</td>\n",
       "      <td>...</td>\n",
       "      <td>...</td>\n",
       "      <td>...</td>\n",
       "      <td>...</td>\n",
       "      <td>...</td>\n",
       "      <td>...</td>\n",
       "      <td>...</td>\n",
       "      <td>...</td>\n",
       "    </tr>\n",
       "    <tr>\n",
       "      <th>1435</th>\n",
       "      <td>-64.830612</td>\n",
       "      <td>-64.830612</td>\n",
       "      <td>-64.830612</td>\n",
       "      <td>-64.830612</td>\n",
       "      <td>-64.830612</td>\n",
       "      <td>-64.830612</td>\n",
       "      <td>-64.830612</td>\n",
       "      <td>-64.830612</td>\n",
       "      <td>-64.830612</td>\n",
       "      <td>-64.830612</td>\n",
       "      <td>...</td>\n",
       "      <td>-64.825241</td>\n",
       "      <td>-64.087883</td>\n",
       "      <td>-64.580177</td>\n",
       "      <td>-63.686932</td>\n",
       "      <td>-61.888149</td>\n",
       "      <td>-62.901615</td>\n",
       "      <td>-63.547104</td>\n",
       "      <td>-62.853157</td>\n",
       "      <td>-63.306709</td>\n",
       "      <td>-63.028633</td>\n",
       "    </tr>\n",
       "    <tr>\n",
       "      <th>1436</th>\n",
       "      <td>-64.371292</td>\n",
       "      <td>-64.371292</td>\n",
       "      <td>-64.371292</td>\n",
       "      <td>-64.605408</td>\n",
       "      <td>-65.461617</td>\n",
       "      <td>-65.182602</td>\n",
       "      <td>-64.857437</td>\n",
       "      <td>-66.060318</td>\n",
       "      <td>-65.262589</td>\n",
       "      <td>-66.383400</td>\n",
       "      <td>...</td>\n",
       "      <td>-59.846638</td>\n",
       "      <td>-60.330479</td>\n",
       "      <td>-61.403244</td>\n",
       "      <td>-60.865337</td>\n",
       "      <td>-60.773865</td>\n",
       "      <td>-60.357029</td>\n",
       "      <td>-62.438786</td>\n",
       "      <td>-64.238052</td>\n",
       "      <td>-64.397881</td>\n",
       "      <td>-64.372169</td>\n",
       "    </tr>\n",
       "    <tr>\n",
       "      <th>1437</th>\n",
       "      <td>-45.822014</td>\n",
       "      <td>-45.822014</td>\n",
       "      <td>-45.822014</td>\n",
       "      <td>-45.822014</td>\n",
       "      <td>-45.822014</td>\n",
       "      <td>-45.822014</td>\n",
       "      <td>-45.822014</td>\n",
       "      <td>-45.822014</td>\n",
       "      <td>-45.822014</td>\n",
       "      <td>-45.822014</td>\n",
       "      <td>...</td>\n",
       "      <td>-42.840157</td>\n",
       "      <td>-44.573303</td>\n",
       "      <td>-46.007793</td>\n",
       "      <td>-44.717552</td>\n",
       "      <td>-44.155876</td>\n",
       "      <td>-44.333450</td>\n",
       "      <td>-42.896072</td>\n",
       "      <td>-43.935940</td>\n",
       "      <td>-44.745132</td>\n",
       "      <td>-44.851601</td>\n",
       "    </tr>\n",
       "    <tr>\n",
       "      <th>1438</th>\n",
       "      <td>-57.300686</td>\n",
       "      <td>-57.300686</td>\n",
       "      <td>-57.300686</td>\n",
       "      <td>-57.300686</td>\n",
       "      <td>-57.300686</td>\n",
       "      <td>-57.300686</td>\n",
       "      <td>-57.470200</td>\n",
       "      <td>-57.377659</td>\n",
       "      <td>-57.300686</td>\n",
       "      <td>-57.320000</td>\n",
       "      <td>...</td>\n",
       "      <td>-43.059505</td>\n",
       "      <td>-44.832989</td>\n",
       "      <td>-44.479885</td>\n",
       "      <td>-44.765240</td>\n",
       "      <td>-44.265144</td>\n",
       "      <td>-47.719749</td>\n",
       "      <td>-48.577980</td>\n",
       "      <td>-51.516617</td>\n",
       "      <td>-51.590557</td>\n",
       "      <td>-51.073380</td>\n",
       "    </tr>\n",
       "    <tr>\n",
       "      <th>1439</th>\n",
       "      <td>-54.349159</td>\n",
       "      <td>-54.518738</td>\n",
       "      <td>-54.929653</td>\n",
       "      <td>-54.808571</td>\n",
       "      <td>-54.901348</td>\n",
       "      <td>-54.642807</td>\n",
       "      <td>-55.066555</td>\n",
       "      <td>-55.270409</td>\n",
       "      <td>-54.928658</td>\n",
       "      <td>-54.248997</td>\n",
       "      <td>...</td>\n",
       "      <td>-32.213120</td>\n",
       "      <td>-34.538731</td>\n",
       "      <td>-35.302864</td>\n",
       "      <td>-36.535763</td>\n",
       "      <td>-37.614670</td>\n",
       "      <td>-37.322914</td>\n",
       "      <td>-35.734901</td>\n",
       "      <td>-33.889294</td>\n",
       "      <td>-24.338572</td>\n",
       "      <td>-17.478569</td>\n",
       "    </tr>\n",
       "  </tbody>\n",
       "</table>\n",
       "<p>1440 rows × 235 columns</p>\n",
       "</div>"
      ],
      "text/plain": [
       "            0          1          2          3          4          5    \\\n",
       "0    -55.612690 -56.277100 -56.280258 -54.961540 -54.760498 -56.270699   \n",
       "1    -71.472450 -71.472450 -71.109642 -68.899368 -71.406387 -71.472450   \n",
       "2    -69.446114 -69.446114 -69.446114 -69.446114 -69.446114 -69.446114   \n",
       "3    -69.905029 -69.868607 -69.905029 -69.905029 -69.905029 -69.905029   \n",
       "4    -64.848053 -64.848053 -64.848053 -64.848053 -64.848053 -64.848053   \n",
       "...         ...        ...        ...        ...        ...        ...   \n",
       "1435 -64.830612 -64.830612 -64.830612 -64.830612 -64.830612 -64.830612   \n",
       "1436 -64.371292 -64.371292 -64.371292 -64.605408 -65.461617 -65.182602   \n",
       "1437 -45.822014 -45.822014 -45.822014 -45.822014 -45.822014 -45.822014   \n",
       "1438 -57.300686 -57.300686 -57.300686 -57.300686 -57.300686 -57.300686   \n",
       "1439 -54.349159 -54.518738 -54.929653 -54.808571 -54.901348 -54.642807   \n",
       "\n",
       "            6          7          8          9    ...        225        226  \\\n",
       "0    -56.281174 -56.281174 -56.281174 -56.281174  ... -56.281174 -56.281174   \n",
       "1    -71.472450 -71.472450 -71.472450 -71.472450  ... -30.753172 -31.356428   \n",
       "2    -69.446114 -69.446114 -69.446114 -69.446114  ... -34.327042 -33.364403   \n",
       "3    -69.905029 -69.905029 -69.905029 -69.905029  ... -61.936401 -59.778069   \n",
       "4    -64.848053 -64.848053 -64.848053 -64.848053  ... -62.991230 -64.679863   \n",
       "...         ...        ...        ...        ...  ...        ...        ...   \n",
       "1435 -64.830612 -64.830612 -64.830612 -64.830612  ... -64.825241 -64.087883   \n",
       "1436 -64.857437 -66.060318 -65.262589 -66.383400  ... -59.846638 -60.330479   \n",
       "1437 -45.822014 -45.822014 -45.822014 -45.822014  ... -42.840157 -44.573303   \n",
       "1438 -57.470200 -57.377659 -57.300686 -57.320000  ... -43.059505 -44.832989   \n",
       "1439 -55.066555 -55.270409 -54.928658 -54.248997  ... -32.213120 -34.538731   \n",
       "\n",
       "            227        228        229        230        231        232  \\\n",
       "0    -56.281174 -56.010765 -56.228943 -56.281174 -56.281174 -56.281174   \n",
       "1    -33.237289 -36.219086 -40.019844 -39.284313 -41.995590 -39.923244   \n",
       "2    -34.830746 -37.748177 -38.264187 -38.390324 -39.573997 -41.444107   \n",
       "3    -62.469486 -63.688515 -64.990250 -60.271835 -57.834335 -59.412334   \n",
       "4    -64.848053 -64.848053 -64.768166 -64.848053 -64.848053 -64.848053   \n",
       "...         ...        ...        ...        ...        ...        ...   \n",
       "1435 -64.580177 -63.686932 -61.888149 -62.901615 -63.547104 -62.853157   \n",
       "1436 -61.403244 -60.865337 -60.773865 -60.357029 -62.438786 -64.238052   \n",
       "1437 -46.007793 -44.717552 -44.155876 -44.333450 -42.896072 -43.935940   \n",
       "1438 -44.479885 -44.765240 -44.265144 -47.719749 -48.577980 -51.516617   \n",
       "1439 -35.302864 -36.535763 -37.614670 -37.322914 -35.734901 -33.889294   \n",
       "\n",
       "            233        234  \n",
       "0    -56.281174 -56.281174  \n",
       "1    -41.920223 -44.674606  \n",
       "2    -42.311619 -44.731667  \n",
       "3    -63.083355 -61.245667  \n",
       "4    -64.848053 -64.848053  \n",
       "...         ...        ...  \n",
       "1435 -63.306709 -63.028633  \n",
       "1436 -64.397881 -64.372169  \n",
       "1437 -44.745132 -44.851601  \n",
       "1438 -51.590557 -51.073380  \n",
       "1439 -24.338572 -17.478569  \n",
       "\n",
       "[1440 rows x 235 columns]"
      ]
     },
     "execution_count": 6,
     "metadata": {},
     "output_type": "execute_result"
    }
   ],
   "source": [
    "df_processed.drop(['path','labels','gender','emotion'], axis=1)"
   ]
  },
  {
   "cell_type": "code",
   "execution_count": 7,
   "metadata": {},
   "outputs": [
    {
     "data": {
      "text/plain": [
       "0            male_angry\n",
       "1          male_neutral\n",
       "2          male_disgust\n",
       "3          male_neutral\n",
       "4         male_surprise\n",
       "             ...       \n",
       "1435       female_happy\n",
       "1436     female_neutral\n",
       "1437        female_fear\n",
       "1438    female_surprise\n",
       "1439     female_disgust\n",
       "Name: labels, Length: 1440, dtype: object"
      ]
     },
     "execution_count": 7,
     "metadata": {},
     "output_type": "execute_result"
    }
   ],
   "source": [
    "df_processed.labels"
   ]
  },
  {
   "cell_type": "code",
   "execution_count": 8,
   "metadata": {},
   "outputs": [
    {
     "name": "stdout",
     "output_type": "stream",
     "text": [
      "Train data shape: (1080, 235)\n",
      "Valid data shape: (360, 235)\n"
     ]
    }
   ],
   "source": [
    "# Split between train and test \n",
    "X_train, X_test, y_train, y_test = train_test_split(df_processed.drop(['path','labels','gender','emotion'], axis=1),\n",
    "                                                        df_processed.labels,\n",
    "                                                        test_size=0.25,\n",
    "                                                        shuffle=True,\n",
    "                                                        random_state=42,\n",
    "                                                   )\n",
    "\n",
    "# Lets see how the data present itself before normalisation \n",
    "print(f'Train data shape: {X_train.shape}\\nValid data shape: {X_test.shape}')"
   ]
  },
  {
   "cell_type": "markdown",
   "metadata": {},
   "source": [
    "## Normalising data:"
   ]
  },
  {
   "cell_type": "code",
   "execution_count": 9,
   "metadata": {},
   "outputs": [],
   "source": [
    "mean = np.mean(X_train, axis=0)\n",
    "std = np.std(X_train, axis=0)"
   ]
  },
  {
   "cell_type": "code",
   "execution_count": 10,
   "metadata": {},
   "outputs": [
    {
     "data": {
      "text/plain": [
       "(235,)"
      ]
     },
     "execution_count": 10,
     "metadata": {},
     "output_type": "execute_result"
    }
   ],
   "source": [
    "mean.shape"
   ]
  },
  {
   "cell_type": "code",
   "execution_count": 11,
   "metadata": {},
   "outputs": [],
   "source": [
    "X_train = (X_train - mean)/std\n",
    "X_test = (X_test - mean)/std"
   ]
  },
  {
   "cell_type": "code",
   "execution_count": 12,
   "metadata": {},
   "outputs": [
    {
     "data": {
      "text/plain": [
       "0      2.203534\n",
       "1      2.228509\n",
       "2      1.795305\n",
       "3      1.529539\n",
       "4      1.523704\n",
       "         ...   \n",
       "230   -0.025173\n",
       "231   -0.024894\n",
       "232    0.009569\n",
       "233   -0.029304\n",
       "234   -0.090792\n",
       "Name: 296, Length: 235, dtype: float64"
      ]
     },
     "execution_count": 12,
     "metadata": {},
     "output_type": "execute_result"
    }
   ],
   "source": [
    "X_train.iloc[0]"
   ]
  },
  {
   "cell_type": "code",
   "execution_count": 13,
   "metadata": {},
   "outputs": [
    {
     "data": {
      "text/plain": [
       "0     -68.508186\n",
       "1     -68.620560\n",
       "2     -67.852554\n",
       "3     -65.889267\n",
       "4     -68.185295\n",
       "         ...    \n",
       "230   -58.912666\n",
       "231   -60.937706\n",
       "232   -68.472267\n",
       "233   -68.508186\n",
       "234   -68.508186\n",
       "Name: 50, Length: 235, dtype: float64"
      ]
     },
     "execution_count": 13,
     "metadata": {},
     "output_type": "execute_result"
    }
   ],
   "source": [
    "df_processed.drop(['path','labels','gender','emotion'], axis=1).loc[50]"
   ]
  },
  {
   "cell_type": "code",
   "execution_count": 14,
   "metadata": {},
   "outputs": [
    {
     "data": {
      "text/plain": [
       "(1080, 235)"
      ]
     },
     "execution_count": 14,
     "metadata": {},
     "output_type": "execute_result"
    }
   ],
   "source": [
    "X_train.shape"
   ]
  },
  {
   "cell_type": "code",
   "execution_count": 15,
   "metadata": {},
   "outputs": [
    {
     "data": {
      "text/plain": [
       "296         male_fear\n",
       "1065     female_angry\n",
       "1219     male_neutral\n",
       "1283      female_fear\n",
       "286        male_happy\n",
       "            ...      \n",
       "1095     male_disgust\n",
       "1130    male_surprise\n",
       "1294       female_sad\n",
       "860         male_fear\n",
       "1126     male_neutral\n",
       "Name: labels, Length: 1080, dtype: object"
      ]
     },
     "execution_count": 15,
     "metadata": {},
     "output_type": "execute_result"
    }
   ],
   "source": [
    "y_train"
   ]
  },
  {
   "cell_type": "code",
   "execution_count": 16,
   "metadata": {},
   "outputs": [
    {
     "data": {
      "text/plain": [
       "(1080,)"
      ]
     },
     "execution_count": 16,
     "metadata": {},
     "output_type": "execute_result"
    }
   ],
   "source": [
    "y_train.shape"
   ]
  },
  {
   "cell_type": "code",
   "execution_count": 17,
   "metadata": {},
   "outputs": [
    {
     "data": {
      "text/plain": [
       "168       male_disgust\n",
       "605         male_angry\n",
       "548       female_angry\n",
       "65         female_fear\n",
       "628       male_neutral\n",
       "             ...      \n",
       "100     female_neutral\n",
       "382      male_surprise\n",
       "618          male_fear\n",
       "915     female_disgust\n",
       "1193    female_neutral\n",
       "Name: labels, Length: 360, dtype: object"
      ]
     },
     "execution_count": 17,
     "metadata": {},
     "output_type": "execute_result"
    }
   ],
   "source": [
    "y_test"
   ]
  },
  {
   "cell_type": "code",
   "execution_count": 18,
   "metadata": {},
   "outputs": [
    {
     "data": {
      "text/plain": [
       "(360,)"
      ]
     },
     "execution_count": 18,
     "metadata": {},
     "output_type": "execute_result"
    }
   ],
   "source": [
    "y_test.shape"
   ]
  },
  {
   "cell_type": "code",
   "execution_count": 19,
   "metadata": {},
   "outputs": [],
   "source": [
    "# Lets few preparation steps to get it into the correct format for Keras \n",
    "X_train = np.array(X_train)\n",
    "y_train = np.array(y_train)\n",
    "X_test = np.array(X_test)\n",
    "y_test = np.array(y_test)"
   ]
  },
  {
   "cell_type": "code",
   "execution_count": 20,
   "metadata": {},
   "outputs": [
    {
     "data": {
      "text/plain": [
       "(360, 235)"
      ]
     },
     "execution_count": 20,
     "metadata": {},
     "output_type": "execute_result"
    }
   ],
   "source": [
    "X_test.shape"
   ]
  },
  {
   "cell_type": "code",
   "execution_count": 21,
   "metadata": {},
   "outputs": [],
   "source": [
    "# one hot encode the target \n",
    "lb = LabelEncoder()\n",
    "y_train = utils.to_categorical(lb.fit_transform(y_train))\n",
    "y_test = utils.to_categorical(lb.fit_transform(y_test))"
   ]
  },
  {
   "cell_type": "code",
   "execution_count": 22,
   "metadata": {},
   "outputs": [
    {
     "data": {
      "text/plain": [
       "(360, 14)"
      ]
     },
     "execution_count": 22,
     "metadata": {},
     "output_type": "execute_result"
    }
   ],
   "source": [
    "y_test.shape"
   ]
  },
  {
   "cell_type": "code",
   "execution_count": 23,
   "metadata": {},
   "outputs": [
    {
     "name": "stdout",
     "output_type": "stream",
     "text": [
      "(1080, 235)\n",
      "['female_angry' 'female_disgust' 'female_fear' 'female_happy'\n",
      " 'female_neutral' 'female_sad' 'female_surprise' 'male_angry'\n",
      " 'male_disgust' 'male_fear' 'male_happy' 'male_neutral' 'male_sad'\n",
      " 'male_surprise']\n"
     ]
    }
   ],
   "source": [
    "print(X_train.shape)\n",
    "print(lb.classes_)\n",
    "#print(y_train[0:10])\n",
    "#print(y_test[0:10])"
   ]
  },
  {
   "cell_type": "code",
   "execution_count": 24,
   "metadata": {},
   "outputs": [],
   "source": [
    "# Pickel the lb object for future use \n",
    "filename = 'labels'\n",
    "outfile = open(filename,'wb')\n",
    "pickle.dump(lb,outfile)\n",
    "outfile.close()"
   ]
  },
  {
   "cell_type": "code",
   "execution_count": 25,
   "metadata": {},
   "outputs": [
    {
     "data": {
      "text/plain": [
       "(1080, 235, 1)"
      ]
     },
     "execution_count": 25,
     "metadata": {},
     "output_type": "execute_result"
    }
   ],
   "source": [
    "X_train = np.expand_dims(X_train, axis=2)\n",
    "X_test = np.expand_dims(X_test, axis=2)\n",
    "X_train.shape"
   ]
  },
  {
   "cell_type": "markdown",
   "metadata": {},
   "source": [
    "## Modelling"
   ]
  },
  {
   "cell_type": "code",
   "execution_count": 44,
   "metadata": {},
   "outputs": [
    {
     "name": "stdout",
     "output_type": "stream",
     "text": [
      "Model: \"sequential_1\"\n",
      "_________________________________________________________________\n",
      "Layer (type)                 Output Shape              Param #   \n",
      "=================================================================\n",
      "conv1d_8 (Conv1D)            (None, 235, 256)          2304      \n",
      "_________________________________________________________________\n",
      "activation_9 (Activation)    (None, 235, 256)          0         \n",
      "_________________________________________________________________\n",
      "conv1d_9 (Conv1D)            (None, 235, 256)          524544    \n",
      "_________________________________________________________________\n",
      "batch_normalization_2 (Batch (None, 235, 256)          1024      \n",
      "_________________________________________________________________\n",
      "activation_10 (Activation)   (None, 235, 256)          0         \n",
      "_________________________________________________________________\n",
      "dropout_2 (Dropout)          (None, 235, 256)          0         \n",
      "_________________________________________________________________\n",
      "max_pooling1d_2 (MaxPooling1 (None, 29, 256)           0         \n",
      "_________________________________________________________________\n",
      "conv1d_10 (Conv1D)           (None, 29, 128)           262272    \n",
      "_________________________________________________________________\n",
      "activation_11 (Activation)   (None, 29, 128)           0         \n",
      "_________________________________________________________________\n",
      "conv1d_11 (Conv1D)           (None, 29, 128)           131200    \n",
      "_________________________________________________________________\n",
      "activation_12 (Activation)   (None, 29, 128)           0         \n",
      "_________________________________________________________________\n",
      "conv1d_12 (Conv1D)           (None, 29, 128)           131200    \n",
      "_________________________________________________________________\n",
      "activation_13 (Activation)   (None, 29, 128)           0         \n",
      "_________________________________________________________________\n",
      "conv1d_13 (Conv1D)           (None, 29, 128)           131200    \n",
      "_________________________________________________________________\n",
      "batch_normalization_3 (Batch (None, 29, 128)           512       \n",
      "_________________________________________________________________\n",
      "activation_14 (Activation)   (None, 29, 128)           0         \n",
      "_________________________________________________________________\n",
      "dropout_3 (Dropout)          (None, 29, 128)           0         \n",
      "_________________________________________________________________\n",
      "max_pooling1d_3 (MaxPooling1 (None, 3, 128)            0         \n",
      "_________________________________________________________________\n",
      "conv1d_14 (Conv1D)           (None, 3, 64)             65600     \n",
      "_________________________________________________________________\n",
      "activation_15 (Activation)   (None, 3, 64)             0         \n",
      "_________________________________________________________________\n",
      "conv1d_15 (Conv1D)           (None, 3, 64)             32832     \n",
      "_________________________________________________________________\n",
      "activation_16 (Activation)   (None, 3, 64)             0         \n",
      "_________________________________________________________________\n",
      "flatten_1 (Flatten)          (None, 192)               0         \n",
      "_________________________________________________________________\n",
      "dense_1 (Dense)              (None, 14)                2702      \n",
      "_________________________________________________________________\n",
      "activation_17 (Activation)   (None, 14)                0         \n",
      "=================================================================\n",
      "Total params: 1,285,390\n",
      "Trainable params: 1,284,622\n",
      "Non-trainable params: 768\n",
      "_________________________________________________________________\n"
     ]
    }
   ],
   "source": [
    "# New model\n",
    "model = Sequential()\n",
    "model.add(Conv1D(256, 8, padding='same',input_shape=(X_train.shape[1],1)))  # X_train.shape[1] = No. of Columns\n",
    "model.add(Activation('relu'))\n",
    "model.add(Conv1D(256, 8, padding='same'))\n",
    "model.add(BatchNormalization())\n",
    "model.add(Activation('relu'))\n",
    "model.add(Dropout(0.25))\n",
    "model.add(MaxPooling1D(pool_size=(8)))\n",
    "model.add(Conv1D(128, 8, padding='same'))\n",
    "model.add(Activation('relu'))\n",
    "model.add(Conv1D(128, 8, padding='same'))\n",
    "model.add(Activation('relu'))\n",
    "model.add(Conv1D(128, 8, padding='same'))\n",
    "model.add(Activation('relu'))\n",
    "model.add(Conv1D(128, 8, padding='same'))\n",
    "model.add(BatchNormalization())\n",
    "model.add(Activation('relu'))\n",
    "model.add(Dropout(0.25))\n",
    "model.add(MaxPooling1D(pool_size=(8)))\n",
    "model.add(Conv1D(64, 8, padding='same'))\n",
    "model.add(Activation('relu'))\n",
    "model.add(Conv1D(64, 8, padding='same'))\n",
    "model.add(Activation('relu'))\n",
    "model.add(Flatten())\n",
    "model.add(Dense(14)) # Target class number\n",
    "model.add(Activation('softmax'))\n",
    "# opt = keras.optimizers.SGD(lr=0.0001, momentum=0.0, decay=0.0, nesterov=False)\n",
    "opt = keras.optimizers.Adam(lr=0.0001)\n",
    "# opt = keras.optimizers.rmsprop(lr=0.00001, decay=1e-6)\n",
    "model.summary()"
   ]
  },
  {
   "cell_type": "code",
   "execution_count": 45,
   "metadata": {},
   "outputs": [
    {
     "name": "stdout",
     "output_type": "stream",
     "text": [
      "Epoch 1/20\n",
      "68/68 [==============================] - 12s 179ms/step - loss: 2.4069 - accuracy: 0.2074 - val_loss: 2.6300 - val_accuracy: 0.1111\n",
      "Epoch 2/20\n",
      "68/68 [==============================] - 12s 178ms/step - loss: 2.1065 - accuracy: 0.2787 - val_loss: 2.6064 - val_accuracy: 0.1111\n",
      "Epoch 3/20\n",
      "68/68 [==============================] - 12s 178ms/step - loss: 1.9151 - accuracy: 0.3315 - val_loss: 2.5664 - val_accuracy: 0.1111\n",
      "Epoch 4/20\n",
      "68/68 [==============================] - 12s 177ms/step - loss: 1.7701 - accuracy: 0.3667 - val_loss: 2.4951 - val_accuracy: 0.1556\n",
      "Epoch 5/20\n",
      "68/68 [==============================] - 13s 185ms/step - loss: 1.6428 - accuracy: 0.4213 - val_loss: 2.4086 - val_accuracy: 0.1722\n",
      "Epoch 6/20\n",
      "68/68 [==============================] - 13s 194ms/step - loss: 1.5245 - accuracy: 0.4750 - val_loss: 2.2682 - val_accuracy: 0.2194\n",
      "Epoch 7/20\n",
      "68/68 [==============================] - 13s 194ms/step - loss: 1.4166 - accuracy: 0.5287 - val_loss: 2.0505 - val_accuracy: 0.3222\n",
      "Epoch 8/20\n",
      "68/68 [==============================] - 12s 179ms/step - loss: 1.3100 - accuracy: 0.5454 - val_loss: 1.9033 - val_accuracy: 0.3944\n",
      "Epoch 9/20\n",
      "68/68 [==============================] - 12s 182ms/step - loss: 1.2553 - accuracy: 0.5917 - val_loss: 1.7336 - val_accuracy: 0.4556\n",
      "Epoch 10/20\n",
      "68/68 [==============================] - 13s 187ms/step - loss: 1.1202 - accuracy: 0.6380 - val_loss: 1.8022 - val_accuracy: 0.3694\n",
      "Epoch 11/20\n",
      "68/68 [==============================] - 12s 183ms/step - loss: 1.0343 - accuracy: 0.6759 - val_loss: 1.6189 - val_accuracy: 0.4667\n",
      "Epoch 12/20\n",
      "68/68 [==============================] - 13s 186ms/step - loss: 0.9655 - accuracy: 0.6917 - val_loss: 1.6299 - val_accuracy: 0.4389\n",
      "Epoch 13/20\n",
      "68/68 [==============================] - 12s 183ms/step - loss: 0.8603 - accuracy: 0.7389 - val_loss: 1.6978 - val_accuracy: 0.4389\n",
      "Epoch 14/20\n",
      "68/68 [==============================] - 13s 184ms/step - loss: 0.7684 - accuracy: 0.7796 - val_loss: 1.6963 - val_accuracy: 0.4250\n",
      "Epoch 15/20\n",
      "68/68 [==============================] - 12s 183ms/step - loss: 0.7020 - accuracy: 0.8028 - val_loss: 1.6216 - val_accuracy: 0.4500\n",
      "Epoch 16/20\n",
      "68/68 [==============================] - 12s 183ms/step - loss: 0.5947 - accuracy: 0.8611 - val_loss: 1.5417 - val_accuracy: 0.5000\n",
      "Epoch 17/20\n",
      "68/68 [==============================] - 13s 189ms/step - loss: 0.5135 - accuracy: 0.8889 - val_loss: 1.6389 - val_accuracy: 0.4111\n",
      "Epoch 18/20\n",
      "68/68 [==============================] - 13s 196ms/step - loss: 0.4484 - accuracy: 0.9074 - val_loss: 1.5756 - val_accuracy: 0.4611\n",
      "Epoch 19/20\n",
      "68/68 [==============================] - 13s 195ms/step - loss: 0.3593 - accuracy: 0.9343 - val_loss: 1.5376 - val_accuracy: 0.4778\n",
      "Epoch 20/20\n",
      "68/68 [==============================] - 13s 190ms/step - loss: 0.3083 - accuracy: 0.9463 - val_loss: 1.5642 - val_accuracy: 0.4778\n"
     ]
    }
   ],
   "source": [
    "model.compile(loss='categorical_crossentropy', optimizer=opt, metrics=['accuracy'])\n",
    "model_history=model.fit(X_train, y_train, batch_size=16, epochs=20, validation_data=(X_test, y_test))"
   ]
  },
  {
   "cell_type": "code",
   "execution_count": 46,
   "metadata": {},
   "outputs": [
    {
     "data": {
      "image/png": "[encoded data removed]",
      "text/plain": [
       "<Figure size 432x288 with 1 Axes>"
      ]
     },
     "metadata": {
      "needs_background": "light"
     },
     "output_type": "display_data"
    }
   ],
   "source": [
    "plt.plot(model_history.history['loss'])\n",
    "plt.plot(model_history.history['val_loss'])\n",
    "plt.title('model loss')\n",
    "plt.ylabel('loss')\n",
    "plt.xlabel('epoch')\n",
    "plt.legend(['train', 'test'], loc='upper left')\n",
    "plt.show()"
   ]
  },
  {
   "cell_type": "code",
   "execution_count": 47,
   "metadata": {},
   "outputs": [
    {
     "name": "stdout",
     "output_type": "stream",
     "text": [
      "Save model and weights at /mnt/4ad2bea6-cc88-45e6-80b1-ea29034f180c/Documentos/workspace/LabInter/AEmotion_CNN/saved_models/Emotion_Model.h5 \n"
     ]
    }
   ],
   "source": [
    "# Save model and weights\n",
    "model_name = 'Emotion_Model.h5'\n",
    "save_dir = os.path.join(os.getcwd(), 'saved_models')\n",
    "\n",
    "if not os.path.isdir(save_dir):\n",
    "    os.makedirs(save_dir)\n",
    "model_path = os.path.join(save_dir, model_name)\n",
    "model.save(model_path)\n",
    "print('Save model and weights at %s ' % model_path)\n",
    "\n",
    "# Save the model to disk\n",
    "model_json = model.to_json()\n",
    "with open(\"model_json.json\", \"w\") as json_file:\n",
    "    json_file.write(model_json)"
   ]
  },
  {
   "cell_type": "code",
   "execution_count": 48,
   "metadata": {},
   "outputs": [
    {
     "name": "stdout",
     "output_type": "stream",
     "text": [
      "Loaded model from disk\n",
      "accuracy: 47.78%\n"
     ]
    }
   ],
   "source": [
    "# loading json and model architecture \n",
    "json_file = open('model_json.json', 'r')\n",
    "loaded_model_json = json_file.read()\n",
    "json_file.close()\n",
    "loaded_model = model_from_json(loaded_model_json)\n",
    "\n",
    "# load weights into new model\n",
    "loaded_model.load_weights(\"saved_models/Emotion_Model.h5\")\n",
    "print(\"Loaded model from disk\")\n",
    " \n",
    "# Keras optimiser\n",
    "\n",
    "opt = keras.optimizers.Adam(lr=0.001)\n",
    "loaded_model.compile(loss='categorical_crossentropy', optimizer=opt, metrics=['accuracy'])\n",
    "score = loaded_model.evaluate(X_test, y_test, verbose=0)\n",
    "print(\"%s: %.2f%%\" % (loaded_model.metrics_names[1], score[1]*100))"
   ]
  },
  {
   "cell_type": "code",
   "execution_count": 49,
   "metadata": {},
   "outputs": [
    {
     "name": "stdout",
     "output_type": "stream",
     "text": [
      "23/23 [==============================] - 1s 34ms/step\n"
     ]
    },
    {
     "data": {
      "text/plain": [
       "array([ 8,  8, 10,  2, 10,  8,  5,  0,  2,  8,  4,  2, 11,  0, 10,  3,  4,\n",
       "       10,  4,  2,  4,  3,  4,  8,  2, 13,  7,  4, 11, 10,  8,  8, 10,  7,\n",
       "        8, 11, 11,  8, 10, 12,  5,  7,  0, 12, 11, 13,  5,  7,  6,  4, 10,\n",
       "       10,  9,  4,  2,  2,  3,  2,  7,  9, 11,  0, 10,  3,  0,  0,  5,  1,\n",
       "        4, 11,  2,  4,  5,  6,  8,  7, 13,  4,  7,  4, 11,  2, 10,  3,  5,\n",
       "        7,  9,  3, 12,  4,  4,  1,  3,  3,  1, 11,  5, 11,  6, 11,  4, 11,\n",
       "       11, 10,  8,  4,  6,  3,  8,  7,  3,  4, 10,  8,  0,  4, 10, 11,  7,\n",
       "        0,  3,  4,  4, 10, 10, 10,  4,  8, 10,  2, 11,  7, 10, 12,  2, 13,\n",
       "        3, 12,  3,  3,  8,  7,  4, 10,  8, 13, 12, 11,  7,  4,  9,  5,  4,\n",
       "        7,  2, 10,  4, 12,  8,  1, 11,  7,  9,  5,  2,  4, 10,  3,  0,  6,\n",
       "        3, 10,  3,  0,  7,  3, 11, 11, 10,  4,  6,  5,  4, 10,  2, 11,  0,\n",
       "        0,  1, 10, 11,  0,  4,  5, 11,  6, 11,  0,  5,  4, 10, 12, 12,  3,\n",
       "       12,  4, 13,  5,  0, 11,  1, 11,  4,  2,  0, 12,  3,  5,  4, 11,  5,\n",
       "       10,  2,  6, 10,  6,  6,  2, 11, 10,  6,  6,  4, 10,  0,  0,  4, 10,\n",
       "        3,  7,  7,  9,  6,  0, 10,  2, 10,  7,  7,  1, 10, 10, 10, 12, 11,\n",
       "        5, 10,  4,  4,  7,  7,  2,  4,  1,  8, 10,  4,  0,  6, 10,  3, 11,\n",
       "       10, 11, 12, 10,  8,  1,  2, 11,  4,  3,  3,  9,  8,  5,  3, 11,  5,\n",
       "        7,  6,  5,  8,  4, 10,  2,  5,  4,  2,  3,  9, 10,  4,  0,  2, 12,\n",
       "        3, 10,  0,  4,  0,  5,  5,  4,  5,  6,  8,  4, 12,  0,  4, 10,  4,\n",
       "       10,  7, 10, 12,  0,  6,  8,  7, 10,  4,  5, 10,  4, 13,  2,  8,  7,\n",
       "       13,  5,  5,  3,  0,  5, 10,  5,  9,  2, 12,  5, 10,  5,  9,  3, 10,\n",
       "        9,  0,  4])"
      ]
     },
     "execution_count": 49,
     "metadata": {},
     "output_type": "execute_result"
    }
   ],
   "source": [
    "preds = loaded_model.predict(X_test, \n",
    "                         batch_size=16, \n",
    "                         verbose=1)\n",
    "\n",
    "preds=preds.argmax(axis=1)\n",
    "preds"
   ]
  },
  {
   "cell_type": "code",
   "execution_count": 50,
   "metadata": {},
   "outputs": [
    {
     "data": {
      "text/html": [
       "<div>\n",
       "<style scoped>\n",
       "    .dataframe tbody tr th:only-of-type {\n",
       "        vertical-align: middle;\n",
       "    }\n",
       "\n",
       "    .dataframe tbody tr th {\n",
       "        vertical-align: top;\n",
       "    }\n",
       "\n",
       "    .dataframe thead th {\n",
       "        text-align: right;\n",
       "    }\n",
       "</style>\n",
       "<table border=\"1\" class=\"dataframe\">\n",
       "  <thead>\n",
       "    <tr style=\"text-align: right;\">\n",
       "      <th></th>\n",
       "      <th>actualvalues</th>\n",
       "      <th>predictedvalues</th>\n",
       "    </tr>\n",
       "  </thead>\n",
       "  <tbody>\n",
       "    <tr>\n",
       "      <th>170</th>\n",
       "      <td>female_sad</td>\n",
       "      <td>female_happy</td>\n",
       "    </tr>\n",
       "    <tr>\n",
       "      <th>171</th>\n",
       "      <td>male_disgust</td>\n",
       "      <td>male_happy</td>\n",
       "    </tr>\n",
       "    <tr>\n",
       "      <th>172</th>\n",
       "      <td>female_happy</td>\n",
       "      <td>female_happy</td>\n",
       "    </tr>\n",
       "    <tr>\n",
       "      <th>173</th>\n",
       "      <td>female_angry</td>\n",
       "      <td>female_angry</td>\n",
       "    </tr>\n",
       "    <tr>\n",
       "      <th>174</th>\n",
       "      <td>male_angry</td>\n",
       "      <td>male_angry</td>\n",
       "    </tr>\n",
       "    <tr>\n",
       "      <th>175</th>\n",
       "      <td>female_surprise</td>\n",
       "      <td>female_happy</td>\n",
       "    </tr>\n",
       "    <tr>\n",
       "      <th>176</th>\n",
       "      <td>male_neutral</td>\n",
       "      <td>male_neutral</td>\n",
       "    </tr>\n",
       "    <tr>\n",
       "      <th>177</th>\n",
       "      <td>male_neutral</td>\n",
       "      <td>male_neutral</td>\n",
       "    </tr>\n",
       "    <tr>\n",
       "      <th>178</th>\n",
       "      <td>male_happy</td>\n",
       "      <td>male_happy</td>\n",
       "    </tr>\n",
       "    <tr>\n",
       "      <th>179</th>\n",
       "      <td>female_neutral</td>\n",
       "      <td>female_neutral</td>\n",
       "    </tr>\n",
       "  </tbody>\n",
       "</table>\n",
       "</div>"
      ],
      "text/plain": [
       "        actualvalues predictedvalues\n",
       "170       female_sad    female_happy\n",
       "171     male_disgust      male_happy\n",
       "172     female_happy    female_happy\n",
       "173     female_angry    female_angry\n",
       "174       male_angry      male_angry\n",
       "175  female_surprise    female_happy\n",
       "176     male_neutral    male_neutral\n",
       "177     male_neutral    male_neutral\n",
       "178       male_happy      male_happy\n",
       "179   female_neutral  female_neutral"
      ]
     },
     "execution_count": 50,
     "metadata": {},
     "output_type": "execute_result"
    }
   ],
   "source": [
    "# predictions \n",
    "preds = preds.astype(int).flatten()\n",
    "preds = (lb.inverse_transform((preds)))\n",
    "preds = pd.DataFrame({'predictedvalues': preds})\n",
    "\n",
    "# Actual labels\n",
    "actual=y_test.argmax(axis=1)\n",
    "actual = actual.astype(int).flatten()\n",
    "actual = (lb.inverse_transform((actual)))\n",
    "actual = pd.DataFrame({'actualvalues': actual})\n",
    "\n",
    "# Lets combined both of them into a single dataframe\n",
    "finaldf = actual.join(preds)\n",
    "finaldf[170:180]"
   ]
  },
  {
   "cell_type": "code",
   "execution_count": 51,
   "metadata": {},
   "outputs": [
    {
     "data": {
      "text/html": [
       "<div>\n",
       "<style scoped>\n",
       "    .dataframe tbody tr th:only-of-type {\n",
       "        vertical-align: middle;\n",
       "    }\n",
       "\n",
       "    .dataframe tbody tr th {\n",
       "        vertical-align: top;\n",
       "    }\n",
       "\n",
       "    .dataframe thead th {\n",
       "        text-align: right;\n",
       "    }\n",
       "</style>\n",
       "<table border=\"1\" class=\"dataframe\">\n",
       "  <thead>\n",
       "    <tr style=\"text-align: right;\">\n",
       "      <th></th>\n",
       "      <th>actualvalues</th>\n",
       "    </tr>\n",
       "    <tr>\n",
       "      <th>predictedvalues</th>\n",
       "      <th></th>\n",
       "    </tr>\n",
       "  </thead>\n",
       "  <tbody>\n",
       "    <tr>\n",
       "      <th>female_angry</th>\n",
       "      <td>27</td>\n",
       "    </tr>\n",
       "    <tr>\n",
       "      <th>female_disgust</th>\n",
       "      <td>9</td>\n",
       "    </tr>\n",
       "    <tr>\n",
       "      <th>female_fear</th>\n",
       "      <td>26</td>\n",
       "    </tr>\n",
       "    <tr>\n",
       "      <th>female_happy</th>\n",
       "      <td>29</td>\n",
       "    </tr>\n",
       "    <tr>\n",
       "      <th>female_neutral</th>\n",
       "      <td>51</td>\n",
       "    </tr>\n",
       "    <tr>\n",
       "      <th>female_sad</th>\n",
       "      <td>30</td>\n",
       "    </tr>\n",
       "    <tr>\n",
       "      <th>female_surprise</th>\n",
       "      <td>17</td>\n",
       "    </tr>\n",
       "    <tr>\n",
       "      <th>male_angry</th>\n",
       "      <td>26</td>\n",
       "    </tr>\n",
       "    <tr>\n",
       "      <th>male_disgust</th>\n",
       "      <td>24</td>\n",
       "    </tr>\n",
       "    <tr>\n",
       "      <th>male_fear</th>\n",
       "      <td>11</td>\n",
       "    </tr>\n",
       "    <tr>\n",
       "      <th>male_happy</th>\n",
       "      <td>53</td>\n",
       "    </tr>\n",
       "    <tr>\n",
       "      <th>male_neutral</th>\n",
       "      <td>32</td>\n",
       "    </tr>\n",
       "    <tr>\n",
       "      <th>male_sad</th>\n",
       "      <td>17</td>\n",
       "    </tr>\n",
       "    <tr>\n",
       "      <th>male_surprise</th>\n",
       "      <td>8</td>\n",
       "    </tr>\n",
       "  </tbody>\n",
       "</table>\n",
       "</div>"
      ],
      "text/plain": [
       "                 actualvalues\n",
       "predictedvalues              \n",
       "female_angry               27\n",
       "female_disgust              9\n",
       "female_fear                26\n",
       "female_happy               29\n",
       "female_neutral             51\n",
       "female_sad                 30\n",
       "female_surprise            17\n",
       "male_angry                 26\n",
       "male_disgust               24\n",
       "male_fear                  11\n",
       "male_happy                 53\n",
       "male_neutral               32\n",
       "male_sad                   17\n",
       "male_surprise               8"
      ]
     },
     "execution_count": 51,
     "metadata": {},
     "output_type": "execute_result"
    }
   ],
   "source": [
    "# Write out the predictions to disk\n",
    "finaldf.to_csv('Predictions.csv', index=False)\n",
    "finaldf.groupby('predictedvalues').count()"
   ]
  },
  {
   "cell_type": "code",
   "execution_count": 52,
   "metadata": {},
   "outputs": [],
   "source": [
    "# the confusion matrix heat map plot\n",
    "def print_confusion_matrix(confusion_matrix, class_names, figsize = (10,7), fontsize=14):\n",
    "    \"\"\"Prints a confusion matrix, as returned by sklearn.metrics.confusion_matrix, as a heatmap.\n",
    "    \n",
    "    Arguments\n",
    "    ---------\n",
    "    confusion_matrix: numpy.ndarray\n",
    "        The numpy.ndarray object returned from a call to sklearn.metrics.confusion_matrix. \n",
    "        Similarly constructed ndarrays can also be used.\n",
    "    class_names: list\n",
    "        An ordered list of class names, in the order they index the given confusion matrix.\n",
    "    figsize: tuple\n",
    "        A 2-long tuple, the first value determining the horizontal size of the ouputted figure,\n",
    "        the second determining the vertical size. Defaults to (10,7).\n",
    "    fontsize: int\n",
    "        Font size for axes labels. Defaults to 14.\n",
    "        \n",
    "    Returns\n",
    "    -------\n",
    "    matplotlib.figure.Figure\n",
    "        The resulting confusion matrix figure\n",
    "    \"\"\"\n",
    "    df_cm = pd.DataFrame(\n",
    "        confusion_matrix, index=class_names, columns=class_names, \n",
    "    )\n",
    "    fig = plt.figure(figsize=figsize)\n",
    "    try:\n",
    "        heatmap = sns.heatmap(df_cm, annot=True, fmt=\"d\")\n",
    "    except ValueError:\n",
    "        raise ValueError(\"Confusion matrix values must be integers.\")\n",
    "        \n",
    "    heatmap.yaxis.set_ticklabels(heatmap.yaxis.get_ticklabels(), rotation=0, ha='right', fontsize=fontsize)\n",
    "    heatmap.xaxis.set_ticklabels(heatmap.xaxis.get_ticklabels(), rotation=45, ha='right', fontsize=fontsize)\n",
    "    plt.ylabel('True label')\n",
    "    plt.xlabel('Predicted label')\n",
    "\n",
    "# Gender recode function\n",
    "def gender(row):\n",
    "    if row == 'female_disgust' or 'female_fear' or 'female_happy' or 'female_sad' or 'female_surprise' or 'female_neutral':\n",
    "        return 'female'\n",
    "    elif row == 'male_angry' or 'male_fear' or 'male_happy' or 'male_sad' or 'male_surprise' or 'male_neutral' or 'male_disgust':\n",
    "        return 'male'\n"
   ]
  },
  {
   "cell_type": "code",
   "execution_count": 53,
   "metadata": {},
   "outputs": [
    {
     "name": "stdout",
     "output_type": "stream",
     "text": [
      "0.4777777777777778\n"
     ]
    },
    {
     "data": {
      "image/png": "[encoded data removed]",
      "text/plain": [
       "<Figure size 720x504 with 2 Axes>"
      ]
     },
     "metadata": {
      "needs_background": "light"
     },
     "output_type": "display_data"
    }
   ],
   "source": [
    "# Get the predictions file \n",
    "finaldf = pd.read_csv(\"Predictions.csv\")\n",
    "classes = finaldf.actualvalues.unique()\n",
    "classes.sort()    \n",
    "\n",
    "# Confusion matrix \n",
    "c = confusion_matrix(finaldf.actualvalues, finaldf.predictedvalues)\n",
    "print(accuracy_score(finaldf.actualvalues, finaldf.predictedvalues))\n",
    "print_confusion_matrix(c, class_names = classes)"
   ]
  },
  {
   "cell_type": "code",
   "execution_count": 54,
   "metadata": {},
   "outputs": [
    {
     "name": "stdout",
     "output_type": "stream",
     "text": [
      "                 precision    recall  f1-score   support\n",
      "\n",
      "   female_angry       0.44      0.48      0.46        25\n",
      " female_disgust       0.56      0.17      0.26        30\n",
      "    female_fear       0.50      0.48      0.49        27\n",
      "   female_happy       0.21      0.29      0.24        21\n",
      " female_neutral       0.65      0.82      0.73        40\n",
      "     female_sad       0.27      0.35      0.30        23\n",
      "female_surprise       0.76      0.54      0.63        24\n",
      "     male_angry       0.65      0.63      0.64        27\n",
      "   male_disgust       0.54      0.54      0.54        24\n",
      "      male_fear       0.82      0.32      0.46        28\n",
      "     male_happy       0.25      0.59      0.35        22\n",
      "   male_neutral       0.66      0.54      0.59        39\n",
      "       male_sad       0.29      0.31      0.30        16\n",
      "  male_surprise       0.50      0.29      0.36        14\n",
      "\n",
      "       accuracy                           0.48       360\n",
      "      macro avg       0.51      0.45      0.45       360\n",
      "   weighted avg       0.53      0.48      0.48       360\n",
      "\n"
     ]
    }
   ],
   "source": [
    "classes = finaldf.actualvalues.unique()\n",
    "classes.sort()    \n",
    "print(classification_report(finaldf.actualvalues, finaldf.predictedvalues, target_names=classes))"
   ]
  },
  {
   "cell_type": "code",
   "execution_count": 36,
   "metadata": {},
   "outputs": [
    {
     "name": "stdout",
     "output_type": "stream",
     "text": [
      "                 precision    recall  f1-score   support\n",
      "\n",
      "   female_angry       0.24      0.56      0.34        25\n",
      " female_disgust       0.33      0.03      0.06        30\n",
      "    female_fear       0.00      0.00      0.00        27\n",
      "   female_happy       0.24      0.38      0.30        21\n",
      " female_neutral       0.49      0.85      0.62        40\n",
      "     female_sad       1.00      0.09      0.16        23\n",
      "female_surprise       0.29      0.21      0.24        24\n",
      "     male_angry       0.43      0.70      0.54        27\n",
      "   male_disgust       0.30      0.12      0.18        24\n",
      "      male_fear       0.00      0.00      0.00        28\n",
      "     male_happy       0.06      0.05      0.05        22\n",
      "   male_neutral       0.38      0.92      0.54        39\n",
      "       male_sad       0.38      0.19      0.25        16\n",
      "  male_surprise       0.00      0.00      0.00        14\n",
      "\n",
      "       accuracy                           0.35       360\n",
      "      macro avg       0.30      0.29      0.23       360\n",
      "   weighted avg       0.31      0.35      0.27       360\n",
      "\n"
     ]
    },
    {
     "name": "stderr",
     "output_type": "stream",
     "text": [
      "/home/tuliochiodi/miniconda3/envs/AEmotion/lib/python3.7/site-packages/sklearn/metrics/_classification.py:1221: UndefinedMetricWarning: Precision and F-score are ill-defined and being set to 0.0 in labels with no predicted samples. Use `zero_division` parameter to control this behavior.\n",
      "  _warn_prf(average, modifier, msg_start, len(result))\n"
     ]
    }
   ],
   "source": [
    "classes = finaldf.actualvalues.unique()\n",
    "classes.sort()    \n",
    "print(classification_report(finaldf.actualvalues, finaldf.predictedvalues, target_names=classes))"
   ]
  },
  {
   "cell_type": "code",
   "execution_count": null,
   "metadata": {},
   "outputs": [],
   "source": []
  }
 ],
 "metadata": {
  "kernelspec": {
   "display_name": "Python37 (AEmotion)",
   "language": "python",
   "name": "aemotion"
  },
  "language_info": {
   "codemirror_mode": {
    "name": "ipython",
    "version": 3
   },
   "file_extension": ".py",
   "mimetype": "text/x-python",
   "name": "python",
   "nbconvert_exporter": "python",
   "pygments_lexer": "ipython3",
   "version": "3.7.9"
  }
 },
 "nbformat": 4,
 "nbformat_minor": 4
}
