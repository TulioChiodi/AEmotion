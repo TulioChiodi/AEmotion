{
 "cells": [
  {
   "cell_type": "code",
   "execution_count": 24,
   "metadata": {
    "partialCollapse": true
   },
   "outputs": [],
   "source": [
    "# imports 1\n",
    "import os\n",
    "import shutil\n",
    "from pathlib import Path\n",
    "import zipfile"
   ]
  },
  {
   "cell_type": "code",
   "execution_count": 26,
   "metadata": {
    "partialCollapse": true
   },
   "outputs": [],
   "source": [
    "# imports 2  \n",
    "import librosa\n",
    "from IPython.display import Audio\n",
    "import pandas as pd"
   ]
  },
  {
   "cell_type": "markdown",
   "metadata": {},
   "source": [
    "# 1. Downloading and extracting dataset files:"
   ]
  },
  {
   "cell_type": "code",
   "execution_count": 4,
   "metadata": {
    "collapsed": true,
    "jupyter": {
     "outputs_hidden": true,
     "source_hidden": true
    }
   },
   "outputs": [
    {
     "name": "stdout",
     "output_type": "stream",
     "text": [
      "--2020-11-24 19:57:12--  https://zenodo.org/record/1188976/files/Audio_Song_Actors_01-24.zip?download=1\n",
      "Resolvendo zenodo.org (zenodo.org)... 137.138.76.77\n",
      "Conectando-se a zenodo.org (zenodo.org)|137.138.76.77|:443... conectado.\n",
      "A requisição HTTP foi enviada, aguardando resposta... 200 OK\n",
      "Tamanho: 225505317 (215M) [application/octet-stream]\n",
      "Salvando em: “RAVDESS_Audio_Song”\n",
      "\n",
      "RAVDESS_Audio_Song   17%[==>                 ]  37,70M  13,6KB/s    em 8m 56s  \n",
      "\n",
      "2020-11-24 20:21:09 (72,1 KB/s) - Erro de leitura no byte 39529565/225505317 (Sucesso). Tentando novamente.\n",
      "\n",
      "--2020-11-24 20:21:10--  (tentativa: 2)  https://zenodo.org/record/1188976/files/Audio_Song_Actors_01-24.zip?download=1\n",
      "Conectando-se a zenodo.org (zenodo.org)|137.138.76.77|:443... conectado.\n",
      "A requisição HTTP foi enviada, aguardando resposta... 200 OK\n",
      "Tamanho: 225505317 (215M) [application/octet-stream]\n",
      "Salvando em: “RAVDESS_Audio_Song”\n",
      "\n",
      "RAVDESS_Audio_Song  100%[===================>] 215,06M  7,46MB/s    em 92s     \n",
      "\n",
      "2020-11-24 20:22:45 (2,35 MB/s) - “RAVDESS_Audio_Song” salvo [225505317/225505317]\n",
      "\n",
      "--2020-11-24 20:22:45--  https://zenodo.org/record/1188976/files/Audio_Speech_Actors_01-24.zip?download=1\n",
      "Resolvendo zenodo.org (zenodo.org)... 137.138.76.77\n",
      "Conectando-se a zenodo.org (zenodo.org)|137.138.76.77|:443... conectado.\n",
      "A requisição HTTP foi enviada, aguardando resposta... 200 OK\n",
      "Tamanho: 208468073 (199M) [application/octet-stream]\n",
      "Salvando em: “RAVDESS_Audio_Speech”\n",
      "\n",
      "RAVDESS_Audio_Speec 100%[===================>] 198,81M  5,84MB/s    em 51s     \n",
      "\n",
      "2020-11-24 20:23:38 (3,88 MB/s) - “RAVDESS_Audio_Speech” salvo [208468073/208468073]\n",
      "\n"
     ]
    }
   ],
   "source": [
    "!wget -O 'RAVDESS_Audio_Song.zip' 'https://zenodo.org/record/1188976/files/Audio_Song_Actors_01-24.zip?download=1'\n",
    "!wget -O 'RAVDESS_Audio_Speech.zip' 'https://zenodo.org/record/1188976/files/Audio_Speech_Actors_01-24.zip?download=1'"
   ]
  },
  {
   "cell_type": "code",
   "execution_count": 27,
   "metadata": {
    "jupyter": {
     "source_hidden": true
    }
   },
   "outputs": [],
   "source": [
    "path = Path('dataset')\n",
    "song_filename = 'RAVDESS_Audio_Song.zip'\n",
    "speech_filename = 'RAVDESS_Audio_Speech.zip'\n",
    "path_song_filename = os.path.join(path, song_filename)\n",
    "path_speech_filename = os.path.join(path, speech_filename)"
   ]
  },
  {
   "cell_type": "code",
   "execution_count": 32,
   "metadata": {
    "collapsed": true,
    "jupyter": {
     "outputs_hidden": true,
     "source_hidden": true
    }
   },
   "outputs": [
    {
     "name": "stdout",
     "output_type": "stream",
     "text": [
      "dataset folder already exists.\n"
     ]
    }
   ],
   "source": [
    "if not os.path.exists(path):\n",
    "    os.mkdir(path)\n",
    "else:\n",
    "    print (f\"{path} folder already exists.\")"
   ]
  },
  {
   "cell_type": "code",
   "execution_count": 31,
   "metadata": {
    "collapsed": true,
    "jupyter": {
     "outputs_hidden": true,
     "source_hidden": true
    }
   },
   "outputs": [
    {
     "name": "stdout",
     "output_type": "stream",
     "text": [
      "RAVDESS_Audio_Song.zip already copied.\n",
      "RAVDESS_Audio_Speech.zip already copied.\n"
     ]
    }
   ],
   "source": [
    "if os.path.isfile(song_filename):\n",
    "    shutil.move(song_filename, path)\n",
    "elif os.path.isfile(path_song_filename):\n",
    "    print(f'{song_filename} already copied.')\n",
    "else:\n",
    "    print(f'{song_filename} not found.')\n",
    "    \n",
    "\n",
    "if os.path.isfile(speech_filename):\n",
    "    shutil.move(speech_filename, path)\n",
    "elif os.path.isfile(path_speech_filename):\n",
    "    print(f'{speech_filename} already copied.')\n",
    "else:\n",
    "    print(f'{speech_filename} not found.')"
   ]
  },
  {
   "cell_type": "code",
   "execution_count": 34,
   "metadata": {
    "collapsed": true,
    "jupyter": {
     "outputs_hidden": true,
     "source_hidden": true
    }
   },
   "outputs": [
    {
     "data": {
      "text/plain": [
       "'dataset/RAVDESS_Audio_Song'"
      ]
     },
     "execution_count": 34,
     "metadata": {},
     "output_type": "execute_result"
    }
   ],
   "source": [
    "path_song_filename.split('.')[0]"
   ]
  },
  {
   "cell_type": "code",
   "execution_count": 36,
   "metadata": {
    "jupyter": {
     "source_hidden": true
    }
   },
   "outputs": [],
   "source": [
    "with zipfile.ZipFile(path_song_filename, 'r') as zip_ref:\n",
    "    zip_ref.extractall(path_song_filename.split('.')[0])\n",
    "    \n",
    "with zipfile.ZipFile(path_speech_filename, 'r') as zip_ref:\n",
    "    zip_ref.extractall(path_speech_filename.split('.')[0])"
   ]
  },
  {
   "cell_type": "markdown",
   "metadata": {},
   "source": [
    "# 2.  Data visualization:"
   ]
  },
  {
   "cell_type": "code",
   "execution_count": 6,
   "metadata": {},
   "outputs": [
    {
     "data": {
      "text/plain": [
       "'/mnt/4ad2bea6-cc88-45e6-80b1-ea29034f180c/Documentos/workspace/LabInter/AEmotion_CNN'"
      ]
     },
     "execution_count": 6,
     "metadata": {},
     "output_type": "execute_result"
    }
   ],
   "source": [
    "os.getcwd()"
   ]
  },
  {
   "cell_type": "code",
   "execution_count": 23,
   "metadata": {},
   "outputs": [
    {
     "data": {
      "text/plain": [
       "female_neutral     144\n",
       "male_neutral       144\n",
       "male_surprise       96\n",
       "female_surprise     96\n",
       "female_disgust      96\n",
       "male_angry          96\n",
       "male_fear           96\n",
       "male_happy          96\n",
       "female_happy        96\n",
       "male_disgust        96\n",
       "female_sad          96\n",
       "female_angry        96\n",
       "male_sad            96\n",
       "female_fear         96\n",
       "Name: labels, dtype: int64"
      ]
     },
     "execution_count": 23,
     "metadata": {},
     "output_type": "execute_result"
    }
   ],
   "source": [
    "dataset_path = Path('dataset/RAVDESS_Audio_Speech/')\n",
    "dir_list = os.listdir(dataset_path)\n",
    "dir_list.sort()\n",
    "\n",
    "emotion = []\n",
    "gender = []\n",
    "path = []\n",
    "for i in dir_list:\n",
    "    subf_path = os.path.join(dataset_path,i)\n",
    "    fname = os.listdir(subf_path)\n",
    "    for f in fname:\n",
    "        part = f.split('.')[0].split('-')\n",
    "        emotion.append(int(part[2]))\n",
    "        temp = int(part[6])\n",
    "        if temp%2 == 0:\n",
    "            temp = \"female\"\n",
    "        else:\n",
    "            temp = \"male\"\n",
    "        gender.append(temp)\n",
    "        path.append(os.path.join(subf_path,f))\n",
    "\n",
    "        \n",
    "RAV_df = pd.DataFrame(emotion)\n",
    "RAV_df = RAV_df.replace({1:'neutral', 2:'neutral', 3:'happy', 4:'sad', 5:'angry', 6:'fear', 7:'disgust', 8:'surprise'})\n",
    "RAV_df = pd.concat([pd.DataFrame(gender),RAV_df],axis=1)\n",
    "RAV_df.columns = ['gender','emotion']\n",
    "RAV_df['labels'] =RAV_df.gender + '_' + RAV_df.emotion \n",
    "RAV_df = pd.concat([RAV_df,pd.DataFrame(path, columns = ['path'])],axis=1)\n",
    "RAV_df = RAV_df.drop(['gender', 'emotion'], axis=1)\n",
    "RAV_df.labels.value_counts()"
   ]
  }
 ],
 "metadata": {
  "kernelspec": {
   "display_name": "Python37 (AEmotion)",
   "language": "python",
   "name": "aemotion"
  },
  "language_info": {
   "codemirror_mode": {
    "name": "ipython",
    "version": 3
   },
   "file_extension": ".py",
   "mimetype": "text/x-python",
   "name": "python",
   "nbconvert_exporter": "python",
   "pygments_lexer": "ipython3",
   "version": "3.7.9"
  }
 },
 "nbformat": 4,
 "nbformat_minor": 4
}
